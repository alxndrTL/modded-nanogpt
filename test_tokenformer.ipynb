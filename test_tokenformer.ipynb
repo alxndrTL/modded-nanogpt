{
 "cells": [
  {
   "cell_type": "code",
   "execution_count": 6,
   "metadata": {},
   "outputs": [],
   "source": [
    "import math\n",
    "import torch\n",
    "import torch.nn as nn\n",
    "import torch.nn.functional as F\n",
    "\n",
    "import matplotlib.pyplot as plt"
   ]
  },
  {
   "cell_type": "code",
   "execution_count": 113,
   "metadata": {},
   "outputs": [],
   "source": [
    "class Pinard(nn.Module):\n",
    "    def __init__(self, in_features, out_features, N):\n",
    "        \"\"\"\n",
    "        replaces nn.Linear(in_features, out_features)\n",
    "        \"\"\"\n",
    "        super().__init__()\n",
    "\n",
    "        self.k = nn.Parameter(torch.randn((N, in_features)))\n",
    "        self.v = nn.Parameter(torch.randn((N, out_features)))\n",
    "\n",
    "    def _norm_scores(self, scores):\n",
    "        norm_outputs = scores / torch.norm(scores, p=2, dim=-1, keepdim=True) * math.sqrt(scores.shape[-1])\n",
    "        return F.gelu(norm_outputs)\n",
    "\n",
    "    def forward(self, q):\n",
    "        # same shapes and overall computations as standard attention with T=1 or N, n_head=1, head_dim=d1 or d2\n",
    "        # q: (B, T, n_head, head_dim) = (B, 1, 1, d1) = (B, d1), k: (T, 1, d1), v: (T, 1, d2)\n",
    "        scores = q @ self.k.T # (B, N)\n",
    "        out = self._norm_scores(scores) @ self.v # (B, d2)\n",
    "        return out"
   ]
  },
  {
   "cell_type": "code",
   "execution_count": 160,
   "metadata": {},
   "outputs": [],
   "source": [
    "d2, d1 = 768, 4*768\n",
    "N = (4*d2)//5\n",
    "B = 4\n",
    "\n",
    "pattention = Pinard(in_features=d1, out_features=d2, N=N)"
   ]
  },
  {
   "cell_type": "code",
   "execution_count": 161,
   "metadata": {},
   "outputs": [],
   "source": [
    "x = torch.randn(B, d1)\n",
    "out = pattention(x)"
   ]
  },
  {
   "cell_type": "code",
   "execution_count": 162,
   "metadata": {},
   "outputs": [
    {
     "data": {
      "text/plain": [
       "torch.Size([4, 768])"
      ]
     },
     "execution_count": 162,
     "metadata": {},
     "output_type": "execute_result"
    }
   ],
   "source": [
    "out.shape"
   ]
  },
  {
   "cell_type": "code",
   "execution_count": 163,
   "metadata": {},
   "outputs": [
    {
     "data": {
      "text/plain": [
       "(2359296, 2357760)"
      ]
     },
     "execution_count": 163,
     "metadata": {},
     "output_type": "execute_result"
    }
   ],
   "source": [
    "d1*d2, sum(p.numel() for p in pattention.parameters())"
   ]
  },
  {
   "cell_type": "code",
   "execution_count": null,
   "metadata": {},
   "outputs": [],
   "source": []
  },
  {
   "cell_type": "code",
   "execution_count": null,
   "metadata": {},
   "outputs": [],
   "source": []
  },
  {
   "cell_type": "code",
   "execution_count": 45,
   "metadata": {},
   "outputs": [],
   "source": [
    "class Pinard(nn.Module):\n",
    "\n",
    "    def __init__(self, in_features, out_features, N):\n",
    "        super().__init__()\n",
    "\n",
    "        self.k = nn.Parameter(torch.randn((N, in_features)))\n",
    "        self.v = nn.Parameter(torch.randn((N, out_features)))\n",
    "\n",
    "    def _norm_scores(self, scores):\n",
    "        norm_outputs = scores / torch.norm(scores, p=2, dim=-1, keepdim=True) * math.sqrt(scores.shape[-1])\n",
    "        return F.gelu(norm_outputs)\n",
    "\n",
    "    def forward(self, q):\n",
    "        # same shapes and overall computations as standard attention with T=1 or N, n_head=1, head_dim=d1 or d2\n",
    "        # q: (B, T, n_head, head_dim) = (B, 1, 1, d1) = (B, d1), k: (T, 1, d1), v: (T, 1, d2)\n",
    "        scores = q @ self.k.T # (B, N)\n",
    "        out = self._norm_scores(scores) @ self.v # (B, d2)\n",
    "        return out\n",
    "    \n",
    "    def _load_from_state_dict(self, state_dict, prefix, local_metadata, strict, missing_keys, unexpected_keys, error_msgs):\n",
    "        for key in ['k', 'v']:\n",
    "            full_key = prefix + key\n",
    "            if full_key in state_dict:\n",
    "                print(full_key)\n",
    "                param = state_dict[full_key]\n",
    "                curr_param = getattr(self, key)\n",
    "                curr_N = curr_param.size(0)\n",
    "                loaded_N = param.size(0)\n",
    "                assert loaded_N <= curr_N\n",
    "                new_param = torch.zeros_like(curr_param)\n",
    "                new_param[:loaded_N] = param[:loaded_N]\n",
    "                state_dict[full_key] = new_param\n",
    "\n",
    "        super()._load_from_state_dict(state_dict, prefix, local_metadata, strict, missing_keys, unexpected_keys, error_msgs)"
   ]
  },
  {
   "cell_type": "code",
   "execution_count": 46,
   "metadata": {},
   "outputs": [],
   "source": [
    "class MyModel(nn.Module):\n",
    "    def __init__(self, N1, N2):\n",
    "        super().__init__()\n",
    "\n",
    "        self.fc_1 = Pinard(32, 32, N1)\n",
    "        self.fc_2 = Pinard(16, 16, N2)"
   ]
  },
  {
   "cell_type": "code",
   "execution_count": 47,
   "metadata": {},
   "outputs": [],
   "source": [
    "model = MyModel(N1=10, N2=5)"
   ]
  },
  {
   "cell_type": "code",
   "execution_count": 48,
   "metadata": {},
   "outputs": [
    {
     "data": {
      "text/plain": [
       "<matplotlib.image.AxesImage at 0x1235c25d0>"
      ]
     },
     "execution_count": 48,
     "metadata": {},
     "output_type": "execute_result"
    },
    {
     "data": {
      "image/png": "[encoded data removed]",
      "text/plain": [
       "<Figure size 640x480 with 1 Axes>"
      ]
     },
     "metadata": {},
     "output_type": "display_data"
    }
   ],
   "source": [
    "plt.imshow(model.fc_1.k.data)"
   ]
  },
  {
   "cell_type": "code",
   "execution_count": 49,
   "metadata": {},
   "outputs": [
    {
     "data": {
      "text/plain": [
       "<matplotlib.image.AxesImage at 0x1155f3530>"
      ]
     },
     "execution_count": 49,
     "metadata": {},
     "output_type": "execute_result"
    },
    {
     "data": {
      "image/png": "[encoded data removed]",
      "text/plain": [
       "<Figure size 640x480 with 1 Axes>"
      ]
     },
     "metadata": {},
     "output_type": "display_data"
    }
   ],
   "source": [
    "plt.imshow(model.fc_2.k.data)"
   ]
  },
  {
   "cell_type": "code",
   "execution_count": 50,
   "metadata": {},
   "outputs": [],
   "source": [
    "torch.save(model.state_dict(), 'model.pth')"
   ]
  },
  {
   "cell_type": "code",
   "execution_count": 54,
   "metadata": {},
   "outputs": [
    {
     "name": "stdout",
     "output_type": "stream",
     "text": [
      "fc_1.k\n",
      "fc_1.v\n",
      "fc_2.k\n",
      "fc_2.v\n"
     ]
    },
    {
     "data": {
      "text/plain": [
       "<All keys matched successfully>"
      ]
     },
     "execution_count": 54,
     "metadata": {},
     "output_type": "execute_result"
    }
   ],
   "source": [
    "model2 = MyModel(N1=20, N2=14)\n",
    "model2.load_state_dict(torch.load('model.pth'), strict=False)"
   ]
  },
  {
   "cell_type": "code",
   "execution_count": 55,
   "metadata": {},
   "outputs": [
    {
     "data": {
      "text/plain": [
       "<matplotlib.image.AxesImage at 0x12364b800>"
      ]
     },
     "execution_count": 55,
     "metadata": {},
     "output_type": "execute_result"
    },
    {
     "data": {
      "image/png": "[encoded data removed]",
      "text/plain": [
       "<Figure size 640x480 with 1 Axes>"
      ]
     },
     "metadata": {},
     "output_type": "display_data"
    }
   ],
   "source": [
    "plt.imshow(model2.fc_1.k.data)"
   ]
  },
  {
   "cell_type": "code",
   "execution_count": 57,
   "metadata": {},
   "outputs": [
    {
     "data": {
      "text/plain": [
       "<matplotlib.image.AxesImage at 0x12386b110>"
      ]
     },
     "execution_count": 57,
     "metadata": {},
     "output_type": "execute_result"
    },
    {
     "data": {
      "image/png": "[encoded data removed]",
      "text/plain": [
       "<Figure size 640x480 with 1 Axes>"
      ]
     },
     "metadata": {},
     "output_type": "display_data"
    }
   ],
   "source": [
    "plt.imshow(model2.fc_2.k.data)"
   ]
  },
  {
   "cell_type": "code",
   "execution_count": null,
   "metadata": {},
   "outputs": [],
   "source": []
  }
 ],
 "metadata": {
  "kernelspec": {
   "display_name": "torch23",
   "language": "python",
   "name": "python3"
  },
  "language_info": {
   "codemirror_mode": {
    "name": "ipython",
    "version": 3
   },
   "file_extension": ".py",
   "mimetype": "text/x-python",
   "name": "python",
   "nbconvert_exporter": "python",
   "pygments_lexer": "ipython3",
   "version": "3.12.2"
  }
 },
 "nbformat": 4,
 "nbformat_minor": 2
}
