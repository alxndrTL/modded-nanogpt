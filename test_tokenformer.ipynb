{
 "cells": [
  {
   "cell_type": "code",
   "execution_count": 39,
   "metadata": {},
   "outputs": [],
   "source": [
    "import math\n",
    "import torch\n",
    "import torch.nn as nn\n",
    "import torch.nn.functional as F"
   ]
  },
  {
   "cell_type": "code",
   "execution_count": 113,
   "metadata": {},
   "outputs": [],
   "source": [
    "class Pinard(nn.Module):\n",
    "    def __init__(self, in_features, out_features, N):\n",
    "        \"\"\"\n",
    "        replaces nn.Linear(in_features, out_features)\n",
    "        \"\"\"\n",
    "        super().__init__()\n",
    "\n",
    "        self.k = nn.Parameter(torch.randn((N, in_features)))\n",
    "        self.v = nn.Parameter(torch.randn((N, out_features)))\n",
    "\n",
    "    def _norm_scores(self, scores):\n",
    "        norm_outputs = scores / torch.norm(scores, p=2, dim=-1, keepdim=True) * math.sqrt(scores.shape[-1])\n",
    "        return F.gelu(norm_outputs)\n",
    "\n",
    "    def forward(self, q):\n",
    "        # same shapes and overall computations as standard attention with T=1 or N, n_head=1, head_dim=d1 or d2\n",
    "        # q: (B, T, n_head, head_dim) = (B, 1, 1, d1) = (B, d1), k: (T, 1, d1), v: (T, 1, d2)\n",
    "        scores = q @ self.k.T # (B, N)\n",
    "        out = self._norm_scores(scores) @ self.v # (B, d2)\n",
    "        return out"
   ]
  },
  {
   "cell_type": "code",
   "execution_count": 160,
   "metadata": {},
   "outputs": [],
   "source": [
    "d2, d1 = 768, 4*768\n",
    "N = (4*d2)//5\n",
    "B = 4\n",
    "\n",
    "pattention = Pinard(in_features=d1, out_features=d2, N=N)"
   ]
  },
  {
   "cell_type": "code",
   "execution_count": 161,
   "metadata": {},
   "outputs": [],
   "source": [
    "x = torch.randn(B, d1)\n",
    "out = pattention(x)"
   ]
  },
  {
   "cell_type": "code",
   "execution_count": 162,
   "metadata": {},
   "outputs": [
    {
     "data": {
      "text/plain": [
       "torch.Size([4, 768])"
      ]
     },
     "execution_count": 162,
     "metadata": {},
     "output_type": "execute_result"
    }
   ],
   "source": [
    "out.shape"
   ]
  },
  {
   "cell_type": "code",
   "execution_count": 163,
   "metadata": {},
   "outputs": [
    {
     "data": {
      "text/plain": [
       "(2359296, 2357760)"
      ]
     },
     "execution_count": 163,
     "metadata": {},
     "output_type": "execute_result"
    }
   ],
   "source": [
    "d1*d2, sum(p.numel() for p in pattention.parameters())"
   ]
  },
  {
   "cell_type": "code",
   "execution_count": null,
   "metadata": {},
   "outputs": [],
   "source": []
  },
  {
   "cell_type": "code",
   "execution_count": null,
   "metadata": {},
   "outputs": [],
   "source": []
  }
 ],
 "metadata": {
  "kernelspec": {
   "display_name": "torch23",
   "language": "python",
   "name": "python3"
  },
  "language_info": {
   "codemirror_mode": {
    "name": "ipython",
    "version": 3
   },
   "file_extension": ".py",
   "mimetype": "text/x-python",
   "name": "python",
   "nbconvert_exporter": "python",
   "pygments_lexer": "ipython3",
   "version": "3.12.2"
  }
 },
 "nbformat": 4,
 "nbformat_minor": 2
}
